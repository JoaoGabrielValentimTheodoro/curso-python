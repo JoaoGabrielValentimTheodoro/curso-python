{
 "cells": [
  {
   "cell_type": "markdown",
   "id": "8251cdb3-03ff-4e1b-84a6-02ff63917c35",
   "metadata": {},
   "source": [
    "# Primeiros exemplos"
   ]
  },
  {
   "cell_type": "code",
   "execution_count": null,
   "id": "d294bae0-f689-4623-9ece-43001e327f2b",
   "metadata": {},
   "outputs": [],
   "source": [
    "print(\"primeiro programa\")\n",
    "1 \\\n",
    "+ 2\n",
    "\n",
    "help(print)"
   ]
  },
  {
   "cell_type": "code",
   "execution_count": null,
   "id": "eb84a09a-ce73-4ff0-a11b-20acfd4f2e2e",
   "metadata": {},
   "outputs": [],
   "source": [
    "1 + 2 + 3\n",
    "4 + 5 + 6"
   ]
  },
  {
   "cell_type": "code",
   "execution_count": null,
   "id": "c5a77cc4-4083-4731-a540-e5008156190d",
   "metadata": {},
   "outputs": [],
   "source": [
    "print(1 + 2 + 3)\n",
    "print(4 + 5 + 6)"
   ]
  },
  {
   "cell_type": "markdown",
   "id": "e4cca1f9-1801-416f-878b-d75742535f1d",
   "metadata": {},
   "source": [
    "# Tipos básicos"
   ]
  },
  {
   "cell_type": "code",
   "execution_count": null,
   "id": "844404e2-ba5f-4212-8c87-1f0a20173762",
   "metadata": {},
   "outputs": [],
   "source": [
    "print(True)\n",
    "print(False) # bool\n",
    "print(1.2 + 1) # float/int\n",
    "print(\"Aqui falo a minha lingua!\") # string\n",
    "print(\"Tb funciona.\")\n",
    "print(\"Você é \" + 3 * \"muito \" + \"Legal!\") # mistura\n",
    "# print(3 + \"3\") ambiguo, não funciona\n",
    "print([1, 2, 3]) # list, dinamica no python\n",
    "print({\"nome\":\"João\",\" Idade\": 21}) # dict\n",
    "print(None)"
   ]
  },
  {
   "cell_type": "markdown",
   "id": "c7f562b1",
   "metadata": {},
   "source": [
    "# Variáveis"
   ]
  },
  {
   "cell_type": "code",
   "execution_count": null,
   "id": "b6d81f80",
   "metadata": {},
   "outputs": [],
   "source": [
    "a = 10 # uma atribuição com = / int \n",
    "b = 5.2 # real - flaot\n",
    "\n",
    "print(a + b) # variável é identificador\n",
    "\n",
    "a = \"Agora sou uma string\"\n",
    "print(a) # interpretador descobre o tipo"
   ]
  },
  {
   "cell_type": "markdown",
   "id": "99e21f61",
   "metadata": {},
   "source": [
    "# Comentários"
   ]
  },
  {
   "cell_type": "code",
   "execution_count": null,
   "id": "9fc31bc6",
   "metadata": {},
   "outputs": [],
   "source": [
    "# Minhas variáveis\n",
    "salario = 3450.45\n",
    "despesas = 2456.2\n",
    "\n",
    "\"\"\"\n",
    "   A ideia é calcular \n",
    "   quanto vai sobrar no \n",
    "   final do mês!\n",
    "\"\"\"\n",
    "\n",
    "# print(\"Fim\")\n",
    "print(salario - despesas)  # Comentario aqui tb vale\n",
    "print(\"Fim de verdade\")\n",
    "\n",
    "'''\n",
    "   A ideia é calcular \n",
    "   quanto vai sobrar no \n",
    "   final do mês! \n",
    "'''\n",
    "print(\"Agora sim o fim de verdade\")"
   ]
  },
  {
   "cell_type": "markdown",
   "id": "4b407359",
   "metadata": {},
   "source": [
    "# Operadores Aritméticos"
   ]
  },
  {
   "cell_type": "code",
   "execution_count": null,
   "id": "1f980f97",
   "metadata": {},
   "outputs": [],
   "source": [
    "# São conhecidos como binários\n",
    "# 2 Operandos para a operação\n",
    "# operardor binário\n",
    "# conhecida como infix\n",
    "print(2 + 3)\n",
    "print(4 - 7)\n",
    "print(2 * 5.3)\n",
    "print(9.4 / 3)\n",
    "print(9.4 // 3)\n",
    "print(2 ** 8)\n",
    "print(10 % 3)\n",
    "\n",
    "a = 12\n",
    "b = a\n",
    "print(a + b)"
   ]
  },
  {
   "cell_type": "markdown",
   "id": "04a315c7",
   "metadata": {},
   "source": [
    "# Desafio Operadores Aritméticos"
   ]
  },
  {
   "cell_type": "code",
   "execution_count": null,
   "id": "ba0fb322",
   "metadata": {},
   "outputs": [],
   "source": [
    "# Minhas variáveis\n",
    "salario = 3450.45\n",
    "despesas = 2456.2\n",
    "\n",
    "percentual_comprometido = despesas / salario * 100\n",
    "\n",
    "print(percentual_comprometido)"
   ]
  },
  {
   "cell_type": "markdown",
   "id": "d3619c9f",
   "metadata": {},
   "source": [
    "# Operadores Relacionais"
   ]
  },
  {
   "cell_type": "code",
   "execution_count": null,
   "id": "bc5129eb",
   "metadata": {},
   "outputs": [],
   "source": [
    "# Relacionais -> True or False\n",
    "# Junção de operadores para deixar mais complexo\n",
    "\n",
    "3 > 4\n",
    "4 >= 3\n",
    "1 < 2\n",
    "3 <= 1\n",
    "3 != 2\n",
    "3 == 3 # Igualdade\n",
    "2 == '2' # False Int/String"
   ]
  },
  {
   "cell_type": "markdown",
   "id": "50ae4bb5",
   "metadata": {},
   "source": [
    "# Operadores de Atribuição"
   ]
  },
  {
   "cell_type": "code",
   "execution_count": null,
   "id": "206390c9",
   "metadata": {},
   "outputs": [],
   "source": [
    "a = 3 # Rotulação/Atribuição\n",
    "a = a + 7 # Acrescentar\n",
    "print(a)\n",
    "\n",
    "# Atribuição aditiva\n",
    "a += 5 # a = a + 5\n",
    "print(a)\n",
    "a -= 3\n",
    "print(a)\n",
    "a *= 2\n",
    "print(a)\n",
    "a /= 4\n",
    "print(a)\n",
    "a %= 4\n",
    "print(a)\n",
    "a **= 8\n",
    "print(a)\n",
    "a //= 256\n",
    "print(a)"
   ]
  },
  {
   "cell_type": "markdown",
   "id": "acd46be1",
   "metadata": {},
   "source": [
    "# Operadores Lógicos"
   ]
  },
  {
   "cell_type": "code",
   "execution_count": null,
   "id": "5c37dc22",
   "metadata": {},
   "outputs": [],
   "source": [
    "True or False\n",
    "7 != 3 and 2 > 3\n",
    "\n",
    "# Tabela verdade do AND (binário/ operandos(2))\n",
    "True and True # Verdadeiro (True)\n",
    "True and False # Falso (False)\n",
    "False and True # Falso (False)\n",
    "False and False # Falso (False)\n",
    "True and True and True and False and True and True\n",
    "\n",
    "# Tabela verdade do OR\n",
    "True or True # Verdadeiro (True)\n",
    "True or False # Verdadeiro (True)\n",
    "False or True # Verdadeiro (True)\n",
    "False or False # Falso (False)\n",
    "True or True or True or False or True or True\n",
    "\n",
    "# Tabela lógica do XOR\n",
    "True != True\n",
    "False != True\n",
    "True != False\n",
    "False != False\n",
    "\n",
    "# Operador de Negação (unário)\n",
    "not True\n",
    "not False\n",
    "\n",
    "not 0\n",
    "not 1\n",
    "not not -1\n",
    "not True\n",
    "not False\n",
    "not not True\n",
    "not not False\n",
    "\n",
    "# Cuidado\n",
    "True & True\n",
    "False | True\n",
    "True ^ True\n",
    "\n",
    "# True && True -> Erro\n",
    "\n",
    "# AND Bit-a-Bit\n",
    "# 3 = 11\n",
    "# 2 = 10\n",
    "3 & 2\n",
    "\n",
    "# OR Bit-a-Bit\n",
    "# 3 = 11\n",
    "# 2 = 10\n",
    "3 | 2\n",
    "\n",
    "# XOR Bit-a-Bit\n",
    "# 3 = 11\n",
    "# 2 = 10\n",
    "3 ^ 2\n",
    "\n",
    "# Um  pouco de Relaidade\n",
    "saldo = 1000\n",
    "salario = 4000\n",
    "despesas = 2967\n",
    "\n",
    "saldo_positivo = saldo > 0\n",
    "despesas_controladas = salario - despesas >= 0.2 * salario\n",
    "meta = saldo_positivo and despesas_controladas\n",
    "meta"
   ]
  },
  {
   "cell_type": "markdown",
   "id": "1d38f655",
   "metadata": {},
   "source": [
    "# Desafio operadores lógicos"
   ]
  },
  {
   "cell_type": "code",
   "execution_count": 16,
   "id": "6d16c3fc",
   "metadata": {},
   "outputs": [
    {
     "name": "stdout",
     "output_type": "stream",
     "text": [
      "TV 50' = True TV 32' = False Sorvete = True Saudavel = False\n"
     ]
    }
   ],
   "source": [
    "trabalho_terca = True\n",
    "trabalho_quinta = True\n",
    "\n",
    "\"\"\"\n",
    "    - Confirmando os dois trabalhos: TV de 50' + sorvete\n",
    "    - Confirmando um trabalho: TV 32' + sorvete\n",
    "    - Nenhum confirmado Fica em casa\n",
    "\"\"\"\n",
    "\n",
    "tv_50 = trabalho_terca and trabalho_quinta\n",
    "sorvete = trabalho_terca or trabalho_quinta\n",
    "tv_32 = trabalho_terca != trabalho_quinta # XOR\n",
    "mais_saudavel = not sorvete\n",
    "\n",
    "print(\"TV 50' = {} TV 32' = {} Sorvete = {} Saudavel = {}\".format(tv_50, tv_32, sorvete, mais_saudavel))\n",
    "\n",
    "# \"{1}, {0}, {2}\".format(tv_50, tv_32, \"Resultado\")"
   ]
  },
  {
   "cell_type": "markdown",
   "id": "b49a453f",
   "metadata": {},
   "source": [
    "# Operadores Unários"
   ]
  },
  {
   "cell_type": "code",
   "execution_count": null,
   "id": "80fe2036",
   "metadata": {},
   "outputs": [],
   "source": [
    "a = 3\n",
    "# a++\n",
    "a += 1\n",
    "a\n",
    "# a--\n",
    "a -= 1\n",
    "a\n",
    "-a\n",
    "+a\n",
    "\n",
    "not 0\n",
    "not 1\n",
    "not -2\n",
    "not False\n",
    "not not True"
   ]
  },
  {
   "cell_type": "markdown",
   "id": "7850d249",
   "metadata": {},
   "source": [
    "# Operadores Ternários"
   ]
  },
  {
   "cell_type": "code",
   "execution_count": null,
   "id": "c031a9e6",
   "metadata": {},
   "outputs": [],
   "source": [
    "esta_chovendo = False\n",
    "print(\"Hoje estou com as roupas \" + (\"secas.\", \"molhadas.\")[esta_chovendo])\n",
    "print(\"Hoje estou com as roupas \" + (\"molhadas.\" if esta_chovendo else \"secas.\"))"
   ]
  },
  {
   "cell_type": "markdown",
   "id": "d3616dd8",
   "metadata": {},
   "source": [
    "# Operadores de Membros/Identidade"
   ]
  },
  {
   "cell_type": "code",
   "execution_count": null,
   "id": "c64a989c",
   "metadata": {},
   "outputs": [],
   "source": [
    "# operador de membro\n",
    "lista = [1, 2, 3, \"Ana\", \"Carla\"]\n",
    "print(2 in lista)\n",
    "print(\"Ana\" not in lista)\n",
    "\n",
    "# Operador de identidade\n",
    "x = 3\n",
    "y = x\n",
    "z = 3\n",
    "print(x is y)\n",
    "print(y is z)\n",
    "print(x is not z)\n",
    "\n",
    "lista_a = [1, 2, 3]\n",
    "lista_b = lista_a\n",
    "lista_c = [1, 2, 3]\n",
    "print(lista_a is lista_b)\n",
    "print(lista_b is lista_c)\n",
    "print(lista_a is not lista_c)"
   ]
  },
  {
   "cell_type": "markdown",
   "id": "139370df",
   "metadata": {},
   "source": [
    "# Builtins"
   ]
  },
  {
   "cell_type": "code",
   "execution_count": 20,
   "id": "a8144883",
   "metadata": {},
   "outputs": [
    {
     "name": "stdout",
     "output_type": "stream",
     "text": [
      "3.3333333333333335\n"
     ]
    },
    {
     "data": {
      "text/plain": [
       "['In',\n",
       " 'Out',\n",
       " '_',\n",
       " '_1',\n",
       " '_10',\n",
       " '_11',\n",
       " '_12',\n",
       " '_15',\n",
       " '_17',\n",
       " '_18',\n",
       " '_19',\n",
       " '_4',\n",
       " '_5',\n",
       " '_6',\n",
       " '_7',\n",
       " '_9',\n",
       " '__',\n",
       " '___',\n",
       " '__builtin__',\n",
       " '__builtins__',\n",
       " '__doc__',\n",
       " '__loader__',\n",
       " '__name__',\n",
       " '__package__',\n",
       " '__spec__',\n",
       " '__vsc_ipynb_file__',\n",
       " '_dh',\n",
       " '_i',\n",
       " '_i1',\n",
       " '_i10',\n",
       " '_i11',\n",
       " '_i12',\n",
       " '_i13',\n",
       " '_i14',\n",
       " '_i15',\n",
       " '_i16',\n",
       " '_i17',\n",
       " '_i18',\n",
       " '_i19',\n",
       " '_i2',\n",
       " '_i20',\n",
       " '_i3',\n",
       " '_i4',\n",
       " '_i5',\n",
       " '_i6',\n",
       " '_i7',\n",
       " '_i8',\n",
       " '_i9',\n",
       " '_ih',\n",
       " '_ii',\n",
       " '_iii',\n",
       " '_oh',\n",
       " 'a',\n",
       " 'exit',\n",
       " 'get_ipython',\n",
       " 'mais_saudavel',\n",
       " 'math',\n",
       " 'nome',\n",
       " 'os',\n",
       " 'quit',\n",
       " 'sorvete',\n",
       " 'sys',\n",
       " 'trabalho_quinta',\n",
       " 'trabalho_terca',\n",
       " 'tv_32',\n",
       " 'tv_50']"
      ]
     },
     "execution_count": 20,
     "metadata": {},
     "output_type": "execute_result"
    }
   ],
   "source": [
    "type(1)\n",
    "# Importado no escopo global\n",
    "#  Nunca interferir em __builtins__\n",
    "__builtins__.type(\"Fala Galéra\")\n",
    "__builtins__.print(10 / 3)\n",
    "\n",
    "# __builtins__.help(__builtins__.dir)\n",
    "# dir()\n",
    "\n",
    "# a = 7\n",
    "# import math\n",
    "# dir(__builtins__)\n",
    "nome = \"John doe\"\n",
    "type(nome)\n",
    "__builtins__.len(nome)\n",
    "\n",
    "dir()"
   ]
  },
  {
   "cell_type": "markdown",
   "id": "2989215a",
   "metadata": {},
   "source": [
    "# Conversão de Tipos"
   ]
  },
  {
   "cell_type": "code",
   "execution_count": 30,
   "id": "8655ca7c",
   "metadata": {},
   "outputs": [
    {
     "name": "stdout",
     "output_type": "stream",
     "text": [
      "<class 'int'>\n",
      "<class 'str'>\n",
      "5\n",
      "23\n",
      "5.4\n"
     ]
    }
   ],
   "source": [
    "2 + 3\n",
    "# print(2 + \"3\")\n",
    "a = 2\n",
    "b = \"3\"\n",
    "\n",
    "print(type(a)) # <class 'int'>\n",
    "print(type(b)) # <class 'str'>\n",
    "print(a + int(b)) # str to int\n",
    "print(str(a) + b) # int to str\n",
    "\n",
    "# print(2 + int(\"2 legal\")) # operação inválida\n",
    "# print(2 + int(\"3.4\")) # operação inválida\n",
    "\n",
    "print(2 + float(\"3.4\")) # str to float"
   ]
  },
  {
   "cell_type": "markdown",
   "id": "253da7d3",
   "metadata": {},
   "source": [
    "# Coerção Automática"
   ]
  },
  {
   "cell_type": "code",
   "execution_count": 39,
   "id": "7e563ecf",
   "metadata": {},
   "outputs": [
    {
     "data": {
      "text/plain": [
       "2"
      ]
     },
     "execution_count": 39,
     "metadata": {},
     "output_type": "execute_result"
    }
   ],
   "source": [
    "10 / 2 # resultado de uma divisão é sempre floa no Python\n",
    "type(10 / 2)\n",
    "10 / 3\n",
    "10 // 3 # Divisão inteira\n",
    "10 // 3.3 # Divisão float\n",
    "type(10 // 3.3)\n",
    "10 / 2.5\n",
    "2 + True # 3 + True(1)\n",
    "2 + False # 2 + False(0)"
   ]
  }
 ],
 "metadata": {
  "interpreter": {
   "hash": "238dbe39b9d96001f9fa651485e3607eb6ae1656f00bf0f113936ac25b3cf8ba"
  },
  "kernelspec": {
   "display_name": "Python 3.9.12 ('base')",
   "language": "python",
   "name": "python3"
  },
  "language_info": {
   "codemirror_mode": {
    "name": "ipython",
    "version": 3
   },
   "file_extension": ".py",
   "mimetype": "text/x-python",
   "name": "python",
   "nbconvert_exporter": "python",
   "pygments_lexer": "ipython3",
   "version": "3.9.12"
  }
 },
 "nbformat": 4,
 "nbformat_minor": 5
}
