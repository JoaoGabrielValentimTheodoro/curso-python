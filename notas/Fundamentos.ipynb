{
 "cells": [
  {
   "cell_type": "markdown",
   "id": "8251cdb3-03ff-4e1b-84a6-02ff63917c35",
   "metadata": {},
   "source": [
    "# Primeiros exemplos"
   ]
  },
  {
   "cell_type": "code",
   "execution_count": 3,
   "id": "d294bae0-f689-4623-9ece-43001e327f2b",
   "metadata": {},
   "outputs": [
    {
     "name": "stdout",
     "output_type": "stream",
     "text": [
      "primeiro programa\n",
      "Help on built-in function print in module builtins:\n",
      "\n",
      "print(...)\n",
      "    print(value, ..., sep=' ', end='\\n', file=sys.stdout, flush=False)\n",
      "    \n",
      "    Prints the values to a stream, or to sys.stdout by default.\n",
      "    Optional keyword arguments:\n",
      "    file:  a file-like object (stream); defaults to the current sys.stdout.\n",
      "    sep:   string inserted between values, default a space.\n",
      "    end:   string appended after the last value, default a newline.\n",
      "    flush: whether to forcibly flush the stream.\n",
      "\n"
     ]
    }
   ],
   "source": [
    "print(\"primeiro programa\")\n",
    "1 \\\n",
    "+ 2\n",
    "\n",
    "help(print)"
   ]
  },
  {
   "cell_type": "code",
   "execution_count": 11,
   "id": "eb84a09a-ce73-4ff0-a11b-20acfd4f2e2e",
   "metadata": {},
   "outputs": [
    {
     "data": {
      "text/plain": [
       "15"
      ]
     },
     "execution_count": 11,
     "metadata": {},
     "output_type": "execute_result"
    }
   ],
   "source": [
    "1 + 2 + 3\n",
    "4 + 5 + 6"
   ]
  },
  {
   "cell_type": "code",
   "execution_count": 1,
   "id": "c5a77cc4-4083-4731-a540-e5008156190d",
   "metadata": {},
   "outputs": [
    {
     "name": "stdout",
     "output_type": "stream",
     "text": [
      "6\n",
      "15\n"
     ]
    }
   ],
   "source": [
    "print(1 + 2 + 3)\n",
    "print(4 + 5 + 6)"
   ]
  },
  {
   "cell_type": "markdown",
   "id": "e4cca1f9-1801-416f-878b-d75742535f1d",
   "metadata": {},
   "source": [
    "# Tipos básicos"
   ]
  },
  {
   "cell_type": "code",
   "execution_count": 2,
   "id": "844404e2-ba5f-4212-8c87-1f0a20173762",
   "metadata": {},
   "outputs": [
    {
     "name": "stdout",
     "output_type": "stream",
     "text": [
      "True\n",
      "False\n",
      "2.2\n",
      "Aqui falo a minha lingua!\n",
      "Tb funciona.\n",
      "Você é muito muito muito Legal!\n",
      "[1, 2, 3]\n",
      "{'nome': 'João', ' Idade': 21}\n",
      "None\n"
     ]
    }
   ],
   "source": [
    "print(True)\n",
    "print(False) # bool\n",
    "print(1.2 + 1) # float/int\n",
    "print(\"Aqui falo a minha lingua!\") # string\n",
    "print(\"Tb funciona.\")\n",
    "print(\"Você é \" + 3 * \"muito \" + \"Legal!\") # mistura\n",
    "# print(3 + \"3\") ambiguo, não funciona\n",
    "print([1, 2, 3]) # list, dinamica no python\n",
    "print({\"nome\":\"João\",\" Idade\": 21}) # dict\n",
    "print(None)"
   ]
  },
  {
   "cell_type": "markdown",
   "id": "c7f562b1",
   "metadata": {},
   "source": [
    "# Variáveis"
   ]
  },
  {
   "cell_type": "code",
   "execution_count": 3,
   "id": "b6d81f80",
   "metadata": {},
   "outputs": [
    {
     "name": "stdout",
     "output_type": "stream",
     "text": [
      "15.2\n",
      "Agora sou uma string\n"
     ]
    }
   ],
   "source": [
    "a = 10 # uma atribuição com = / int \n",
    "b = 5.2 # real - flaot\n",
    "\n",
    "print(a + b) # variável é identificador\n",
    "\n",
    "a = \"Agora sou uma string\"\n",
    "print(a) # interpretador descobre o tipo"
   ]
  },
  {
   "cell_type": "markdown",
   "id": "99e21f61",
   "metadata": {},
   "source": [
    "# Comentários"
   ]
  },
  {
   "cell_type": "code",
   "execution_count": 6,
   "id": "9fc31bc6",
   "metadata": {},
   "outputs": [
    {
     "name": "stdout",
     "output_type": "stream",
     "text": [
      "994.25\n",
      "Agora sim o fim de verdade\n"
     ]
    }
   ],
   "source": [
    "# Minhas variáveis\n",
    "salario = 3450.45\n",
    "despesas = 2456.2\n",
    "\n",
    "\"\"\"\n",
    "   A ideia é calcular \n",
    "   quanto vai sobrar no \n",
    "   final do mês!\n",
    "\"\"\"\n",
    "\n",
    "# print(\"Fim\")\n",
    "print(salario - despesas)  # Comentario aqui tb vale\n",
    "print(\"Fim de verdade\")\n",
    "\n",
    "'''\n",
    "   A ideia é calcular \n",
    "   quanto vai sobrar no \n",
    "   final do mês! \n",
    "'''\n",
    "print(\"Agora sim o fim de verdade\")"
   ]
  },
  {
   "cell_type": "markdown",
   "id": "4b407359",
   "metadata": {},
   "source": [
    "# Operadores Aritméticos"
   ]
  },
  {
   "cell_type": "code",
   "execution_count": 4,
   "id": "1f980f97",
   "metadata": {},
   "outputs": [
    {
     "name": "stdout",
     "output_type": "stream",
     "text": [
      "5\n",
      "-3\n",
      "10.6\n",
      "3.1333333333333333\n",
      "3.0\n",
      "256\n",
      "1\n",
      "24\n"
     ]
    }
   ],
   "source": [
    "# São conhecidos como binários\n",
    "# 2 Operandos para a operação\n",
    "# operardor binário\n",
    "# conhecida como infix\n",
    "print(2 + 3)\n",
    "print(4 - 7)\n",
    "print(2 * 5.3)\n",
    "print(9.4 / 3)\n",
    "print(9.4 // 3)\n",
    "print(2 ** 8)\n",
    "print(10 % 3)\n",
    "\n",
    "a = 12\n",
    "b = a\n",
    "print(a + b)"
   ]
  },
  {
   "cell_type": "markdown",
   "id": "04a315c7",
   "metadata": {},
   "source": [
    "# Desafio Operadores Aritméticos"
   ]
  },
  {
   "cell_type": "code",
   "execution_count": 5,
   "id": "ba0fb322",
   "metadata": {},
   "outputs": [
    {
     "name": "stdout",
     "output_type": "stream",
     "text": [
      "71.18491790925822\n"
     ]
    }
   ],
   "source": [
    "# Minhas variáveis\n",
    "salario = 3450.45\n",
    "despesas = 2456.2\n",
    "\n",
    "percentual_comprometido = despesas / salario * 100\n",
    "\n",
    "print(percentual_comprometido)"
   ]
  },
  {
   "cell_type": "markdown",
   "id": "d3619c9f",
   "metadata": {},
   "source": [
    "# Operadores Relacionais"
   ]
  },
  {
   "cell_type": "code",
   "execution_count": 7,
   "id": "bc5129eb",
   "metadata": {},
   "outputs": [
    {
     "data": {
      "text/plain": [
       "False"
      ]
     },
     "execution_count": 7,
     "metadata": {},
     "output_type": "execute_result"
    }
   ],
   "source": [
    "# Relacionais -> True or False\n",
    "# Junção de operadores para deixar mais complexo\n",
    "\n",
    "3 > 4\n",
    "4 >= 3\n",
    "1 < 2\n",
    "3 <= 1\n",
    "3 != 2\n",
    "3 == 3 # Igualdade\n",
    "2 == '2' # False Int/String"
   ]
  },
  {
   "cell_type": "markdown",
   "id": "50ae4bb5",
   "metadata": {},
   "source": [
    "# Operadores de Atribuição"
   ]
  },
  {
   "cell_type": "code",
   "execution_count": 6,
   "id": "206390c9",
   "metadata": {},
   "outputs": [
    {
     "name": "stdout",
     "output_type": "stream",
     "text": [
      "10\n",
      "15\n",
      "12\n",
      "24\n",
      "6.0\n",
      "2.0\n",
      "256.0\n",
      "1.0\n"
     ]
    }
   ],
   "source": [
    "a = 3 # Rotulação/Atribuição\n",
    "a = a + 7 # Acrescentar\n",
    "print(a)\n",
    "\n",
    "# Atribuição aditiva\n",
    "a += 5 # a = a + 5\n",
    "print(a)\n",
    "a -= 3\n",
    "print(a)\n",
    "a *= 2\n",
    "print(a)\n",
    "a /= 4\n",
    "print(a)\n",
    "a %= 4\n",
    "print(a)\n",
    "a **= 8\n",
    "print(a)\n",
    "a //= 256\n",
    "print(a)"
   ]
  },
  {
   "cell_type": "markdown",
   "id": "acd46be1",
   "metadata": {},
   "source": [
    "# Operadores Lógicos"
   ]
  },
  {
   "cell_type": "code",
   "execution_count": 27,
   "id": "5c37dc22",
   "metadata": {},
   "outputs": [
    {
     "data": {
      "text/plain": [
       "True"
      ]
     },
     "execution_count": 27,
     "metadata": {},
     "output_type": "execute_result"
    }
   ],
   "source": [
    "True or False\n",
    "7 != 3 and 2 > 3\n",
    "\n",
    "# Tabela verdade do AND (binário/ operandos(2))\n",
    "True and True # Verdadeiro (True)\n",
    "True and False # Falso (False)\n",
    "False and True # Falso (False)\n",
    "False and False # Falso (False)\n",
    "True and True and True and False and True and True\n",
    "\n",
    "# Tabela verdade do OR\n",
    "True or True # Verdadeiro (True)\n",
    "True or False # Verdadeiro (True)\n",
    "False or True # Verdadeiro (True)\n",
    "False or False # Falso (False)\n",
    "True or True or True or False or True or True\n",
    "\n",
    "# Tabela lógica do XOR\n",
    "True != True\n",
    "False != True\n",
    "True != False\n",
    "False != False\n",
    "\n",
    "# Operador de Negação (unário)\n",
    "not True\n",
    "not False\n",
    "\n",
    "not 0\n",
    "not 1\n",
    "not not -1\n",
    "not True\n",
    "not False\n",
    "not not True\n",
    "not not False\n",
    "\n",
    "# Cuidado\n",
    "True & True\n",
    "False | True\n",
    "True ^ True\n",
    "\n",
    "# True && True -> Erro\n",
    "\n",
    "# AND Bit-a-Bit\n",
    "# 3 = 11\n",
    "# 2 = 10\n",
    "3 & 2\n",
    "\n",
    "# OR Bit-a-Bit\n",
    "# 3 = 11\n",
    "# 2 = 10\n",
    "3 | 2\n",
    "\n",
    "# XOR Bit-a-Bit\n",
    "# 3 = 11\n",
    "# 2 = 10\n",
    "3 ^ 2\n",
    "\n",
    "# Um  pouco de Relaidade\n",
    "saldo = 1000\n",
    "salario = 4000\n",
    "despesas = 2967\n",
    "\n",
    "saldo_positivo = saldo > 0\n",
    "despesas_controladas = salario - despesas >= 0.2 * salario\n",
    "meta = saldo_positivo and despesas_controladas\n",
    "meta"
   ]
  },
  {
   "cell_type": "markdown",
   "id": "1d38f655",
   "metadata": {},
   "source": [
    "# Desafio operadores lógicos"
   ]
  },
  {
   "cell_type": "code",
   "execution_count": 34,
   "id": "6d16c3fc",
   "metadata": {},
   "outputs": [
    {
     "name": "stdout",
     "output_type": "stream",
     "text": [
      "TV 50' = True TV 32' = False Sorvete = True Saudavel = False\n"
     ]
    }
   ],
   "source": [
    "trabalho_terca = True\n",
    "trabalho_quinta = True\n",
    "\n",
    "\"\"\"\n",
    "    - Confirmando os dois trabalhos: TV de 50' + sorvete\n",
    "    - Confirmando um trabalho: TV 32' + sorvete\n",
    "    - Nenhum confirmado Fica em casa\n",
    "\"\"\"\n",
    "\n",
    "tv_50 = trabalho_terca and trabalho_quinta\n",
    "sorvete = trabalho_terca or trabalho_quinta\n",
    "tv_32 = trabalho_terca != trabalho_quinta # XOR\n",
    "mais_saudavel = not sorvete\n",
    "\n",
    "print(\"TV 50' = {} TV 32' = {} Sorvete = {} Saudavel = {}\".format(tv_50, tv_32, sorvete, mais_saudavel))\n",
    "\n",
    "# \"{1}, {0}, {2}\".format(tv_50, tv_32, \"Resultado\")"
   ]
  },
  {
   "cell_type": "markdown",
   "id": "b49a453f",
   "metadata": {},
   "source": [
    "# Operadores Unários"
   ]
  },
  {
   "cell_type": "code",
   "execution_count": 42,
   "id": "80fe2036",
   "metadata": {},
   "outputs": [
    {
     "data": {
      "text/plain": [
       "True"
      ]
     },
     "execution_count": 42,
     "metadata": {},
     "output_type": "execute_result"
    }
   ],
   "source": [
    "a = 3\n",
    "# a++\n",
    "a += 1\n",
    "a\n",
    "# a--\n",
    "a -= 1\n",
    "a\n",
    "-a\n",
    "+a\n",
    "\n",
    "not 0\n",
    "not 1\n",
    "not -2\n",
    "not False\n",
    "not not True"
   ]
  },
  {
   "cell_type": "markdown",
   "id": "7850d249",
   "metadata": {},
   "source": [
    "# Operadores Ternários"
   ]
  },
  {
   "cell_type": "code",
   "execution_count": 5,
   "id": "c031a9e6",
   "metadata": {},
   "outputs": [
    {
     "name": "stdout",
     "output_type": "stream",
     "text": [
      "Hoje estou com as roupas secas.\n",
      "Hoje estou com as roupas secas.\n"
     ]
    }
   ],
   "source": [
    "esta_chovendo = False\n",
    "print(\"Hoje estou com as roupas \" + (\"secas.\", \"molhadas.\")[esta_chovendo])\n",
    "print(\"Hoje estou com as roupas \" + (\"molhadas.\" if esta_chovendo else \"secas.\"))"
   ]
  },
  {
   "cell_type": "markdown",
   "id": "d3616dd8",
   "metadata": {},
   "source": [
    "# Operadores de Membros/Identidade"
   ]
  },
  {
   "cell_type": "code",
   "execution_count": 13,
   "id": "c64a989c",
   "metadata": {},
   "outputs": [
    {
     "name": "stdout",
     "output_type": "stream",
     "text": [
      "True\n",
      "False\n",
      "True\n",
      "True\n",
      "False\n",
      "True\n",
      "False\n",
      "True\n"
     ]
    }
   ],
   "source": [
    "# operador de membro\n",
    "lista = [1, 2, 3, \"Ana\", \"Carla\"]\n",
    "print(2 in lista)\n",
    "print(\"Ana\" not in lista)\n",
    "\n",
    "# Operador de identidade\n",
    "x = 3\n",
    "y = x\n",
    "z = 3\n",
    "print(x is y)\n",
    "print(y is z)\n",
    "print(x is not z)\n",
    "\n",
    "lista_a = [1, 2, 3]\n",
    "lista_b = lista_a\n",
    "lista_c = [1, 2, 3]\n",
    "print(lista_a is lista_b)\n",
    "print(lista_b is lista_c)\n",
    "print(lista_a is not lista_c)"
   ]
  }
 ],
 "metadata": {
  "interpreter": {
   "hash": "238dbe39b9d96001f9fa651485e3607eb6ae1656f00bf0f113936ac25b3cf8ba"
  },
  "kernelspec": {
   "display_name": "Python 3.9.12 ('base')",
   "language": "python",
   "name": "python3"
  },
  "language_info": {
   "codemirror_mode": {
    "name": "ipython",
    "version": 3
   },
   "file_extension": ".py",
   "mimetype": "text/x-python",
   "name": "python",
   "nbconvert_exporter": "python",
   "pygments_lexer": "ipython3",
   "version": "3.9.12"
  }
 },
 "nbformat": 4,
 "nbformat_minor": 5
}
