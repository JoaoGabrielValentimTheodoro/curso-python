{
 "cells": [
  {
   "cell_type": "markdown",
   "id": "8251cdb3-03ff-4e1b-84a6-02ff63917c35",
   "metadata": {},
   "source": [
    "# Primeiros exemplos"
   ]
  },
  {
   "cell_type": "code",
   "execution_count": 1,
   "id": "d294bae0-f689-4623-9ece-43001e327f2b",
   "metadata": {},
   "outputs": [
    {
     "name": "stdout",
     "output_type": "stream",
     "text": [
      "primeiro programa\n",
      "Help on built-in function print in module builtins:\n",
      "\n",
      "print(...)\n",
      "    print(value, ..., sep=' ', end='\\n', file=sys.stdout, flush=False)\n",
      "    \n",
      "    Prints the values to a stream, or to sys.stdout by default.\n",
      "    Optional keyword arguments:\n",
      "    file:  a file-like object (stream); defaults to the current sys.stdout.\n",
      "    sep:   string inserted between values, default a space.\n",
      "    end:   string appended after the last value, default a newline.\n",
      "    flush: whether to forcibly flush the stream.\n",
      "\n"
     ]
    }
   ],
   "source": [
    "print(\"primeiro programa\")\n",
    "1 \\\n",
    "+ 2\n",
    "\n",
    "help(print)"
   ]
  },
  {
   "cell_type": "code",
   "execution_count": null,
   "id": "eb84a09a-ce73-4ff0-a11b-20acfd4f2e2e",
   "metadata": {},
   "outputs": [],
   "source": [
    "1 + 2 + 3\n",
    "4 + 5 + 6"
   ]
  },
  {
   "cell_type": "code",
   "execution_count": null,
   "id": "c5a77cc4-4083-4731-a540-e5008156190d",
   "metadata": {},
   "outputs": [],
   "source": [
    "print(1 + 2 + 3)\n",
    "print(4 + 5 + 6)"
   ]
  },
  {
   "cell_type": "markdown",
   "id": "e4cca1f9-1801-416f-878b-d75742535f1d",
   "metadata": {},
   "source": [
    "# Tipos básicos"
   ]
  },
  {
   "cell_type": "code",
   "execution_count": null,
   "id": "844404e2-ba5f-4212-8c87-1f0a20173762",
   "metadata": {},
   "outputs": [],
   "source": [
    "print(True)\n",
    "print(False) # bool\n",
    "print(1.2 + 1) # float/int\n",
    "print(\"Aqui falo a minha lingua!\") # string\n",
    "print(\"Tb funciona.\")\n",
    "print(\"Você é \" + 3 * \"muito \" + \"Legal!\") # mistura\n",
    "# print(3 + \"3\") ambiguo, não funciona\n",
    "print([1, 2, 3]) # list, dinamica no python\n",
    "print({\"nome\":\"João\",\" Idade\": 21}) # dict\n",
    "print(None)"
   ]
  },
  {
   "cell_type": "markdown",
   "id": "c7f562b1",
   "metadata": {},
   "source": [
    "# Variáveis"
   ]
  },
  {
   "cell_type": "code",
   "execution_count": null,
   "id": "b6d81f80",
   "metadata": {},
   "outputs": [],
   "source": [
    "a = 10 # uma atribuição com = / int \n",
    "b = 5.2 # real - flaot\n",
    "\n",
    "print(a + b) # variável é identificador\n",
    "\n",
    "a = \"Agora sou uma string\"\n",
    "print(a) # interpretador descobre o tipo"
   ]
  },
  {
   "cell_type": "markdown",
   "id": "99e21f61",
   "metadata": {},
   "source": [
    "# Comentários"
   ]
  },
  {
   "cell_type": "code",
   "execution_count": null,
   "id": "9fc31bc6",
   "metadata": {},
   "outputs": [],
   "source": [
    "# Minhas variáveis\n",
    "salario = 3450.45\n",
    "despesas = 2456.2\n",
    "\n",
    "\"\"\"\n",
    "   A ideia é calcular \n",
    "   quanto vai sobrar no \n",
    "   final do mês!\n",
    "\"\"\"\n",
    "\n",
    "# print(\"Fim\")\n",
    "print(salario - despesas)  # Comentario aqui tb vale\n",
    "print(\"Fim de verdade\")\n",
    "\n",
    "'''\n",
    "   A ideia é calcular \n",
    "   quanto vai sobrar no \n",
    "   final do mês! \n",
    "'''\n",
    "print(\"Agora sim o fim de verdade\")"
   ]
  },
  {
   "cell_type": "markdown",
   "id": "4b407359",
   "metadata": {},
   "source": [
    "# Operadores Aritméticos"
   ]
  },
  {
   "cell_type": "code",
   "execution_count": null,
   "id": "1f980f97",
   "metadata": {},
   "outputs": [],
   "source": [
    "# São conhecidos como binários\n",
    "# 2 Operandos para a operação\n",
    "# operardor binário\n",
    "# conhecida como infix\n",
    "print(2 + 3)\n",
    "print(4 - 7)\n",
    "print(2 * 5.3)\n",
    "print(9.4 / 3)\n",
    "print(9.4 // 3)\n",
    "print(2 ** 8)\n",
    "print(10 % 3)\n",
    "\n",
    "a = 12\n",
    "b = a\n",
    "print(a + b)"
   ]
  },
  {
   "cell_type": "markdown",
   "id": "04a315c7",
   "metadata": {},
   "source": [
    "# Desafio Operadores Aritméticos"
   ]
  },
  {
   "cell_type": "code",
   "execution_count": null,
   "id": "ba0fb322",
   "metadata": {},
   "outputs": [],
   "source": [
    "# Minhas variáveis\n",
    "salario = 3450.45\n",
    "despesas = 2456.2\n",
    "\n",
    "percentual_comprometido = despesas / salario * 100\n",
    "\n",
    "print(percentual_comprometido)"
   ]
  },
  {
   "cell_type": "markdown",
   "id": "d3619c9f",
   "metadata": {},
   "source": [
    "# Operadores Relacionais"
   ]
  },
  {
   "cell_type": "code",
   "execution_count": null,
   "id": "bc5129eb",
   "metadata": {},
   "outputs": [],
   "source": [
    "# Relacionais -> True or False\n",
    "# Junção de operadores para deixar mais complexo\n",
    "\n",
    "3 > 4\n",
    "4 >= 3\n",
    "1 < 2\n",
    "3 <= 1\n",
    "3 != 2\n",
    "3 == 3 # Igualdade\n",
    "2 == '2' # False Int/String"
   ]
  },
  {
   "cell_type": "markdown",
   "id": "50ae4bb5",
   "metadata": {},
   "source": [
    "# Operadores de Atribuição"
   ]
  },
  {
   "cell_type": "code",
   "execution_count": null,
   "id": "206390c9",
   "metadata": {},
   "outputs": [],
   "source": [
    "a = 3 # Rotulação/Atribuição\n",
    "a = a + 7 # Acrescentar\n",
    "print(a)\n",
    "\n",
    "# Atribuição aditiva\n",
    "a += 5 # a = a + 5\n",
    "print(a)\n",
    "a -= 3\n",
    "print(a)\n",
    "a *= 2\n",
    "print(a)\n",
    "a /= 4\n",
    "print(a)\n",
    "a %= 4\n",
    "print(a)\n",
    "a **= 8\n",
    "print(a)\n",
    "a //= 256\n",
    "print(a)"
   ]
  },
  {
   "cell_type": "markdown",
   "id": "acd46be1",
   "metadata": {},
   "source": [
    "# Operadores Lógicos"
   ]
  },
  {
   "cell_type": "code",
   "execution_count": null,
   "id": "5c37dc22",
   "metadata": {},
   "outputs": [],
   "source": [
    "True or False\n",
    "7 != 3 and 2 > 3\n",
    "\n",
    "# Tabela verdade do AND (binário/ operandos(2))\n",
    "True and True # Verdadeiro (True)\n",
    "True and False # Falso (False)\n",
    "False and True # Falso (False)\n",
    "False and False # Falso (False)\n",
    "True and True and True and False and True and True\n",
    "\n",
    "# Tabela verdade do OR\n",
    "True or True # Verdadeiro (True)\n",
    "True or False # Verdadeiro (True)\n",
    "False or True # Verdadeiro (True)\n",
    "False or False # Falso (False)\n",
    "True or True or True or False or True or True\n",
    "\n",
    "# Tabela lógica do XOR\n",
    "True != True\n",
    "False != True\n",
    "True != False\n",
    "False != False\n",
    "\n",
    "# Operador de Negação (unário)\n",
    "not True\n",
    "not False\n",
    "\n",
    "not 0\n",
    "not 1\n",
    "not not -1\n",
    "not True\n",
    "not False\n",
    "not not True\n",
    "not not False\n",
    "\n",
    "# Cuidado\n",
    "True & True\n",
    "False | True\n",
    "True ^ True\n",
    "\n",
    "# True && True -> Erro\n",
    "\n",
    "# AND Bit-a-Bit\n",
    "# 3 = 11\n",
    "# 2 = 10\n",
    "3 & 2\n",
    "\n",
    "# OR Bit-a-Bit\n",
    "# 3 = 11\n",
    "# 2 = 10\n",
    "3 | 2\n",
    "\n",
    "# XOR Bit-a-Bit\n",
    "# 3 = 11\n",
    "# 2 = 10\n",
    "3 ^ 2\n",
    "\n",
    "# Um  pouco de Relaidade\n",
    "saldo = 1000\n",
    "salario = 4000\n",
    "despesas = 2967\n",
    "\n",
    "saldo_positivo = saldo > 0\n",
    "despesas_controladas = salario - despesas >= 0.2 * salario\n",
    "meta = saldo_positivo and despesas_controladas\n",
    "meta"
   ]
  },
  {
   "cell_type": "markdown",
   "id": "1d38f655",
   "metadata": {},
   "source": [
    "# Desafio operadores lógicos"
   ]
  },
  {
   "cell_type": "code",
   "execution_count": 16,
   "id": "6d16c3fc",
   "metadata": {},
   "outputs": [
    {
     "name": "stdout",
     "output_type": "stream",
     "text": [
      "TV 50' = True TV 32' = False Sorvete = True Saudavel = False\n"
     ]
    }
   ],
   "source": [
    "trabalho_terca = True\n",
    "trabalho_quinta = True\n",
    "\n",
    "\"\"\"\n",
    "    - Confirmando os dois trabalhos: TV de 50' + sorvete\n",
    "    - Confirmando um trabalho: TV 32' + sorvete\n",
    "    - Nenhum confirmado Fica em casa\n",
    "\"\"\"\n",
    "\n",
    "tv_50 = trabalho_terca and trabalho_quinta\n",
    "sorvete = trabalho_terca or trabalho_quinta\n",
    "tv_32 = trabalho_terca != trabalho_quinta # XOR\n",
    "mais_saudavel = not sorvete\n",
    "\n",
    "print(\"TV 50' = {} TV 32' = {} Sorvete = {} Saudavel = {}\".format(tv_50, tv_32, sorvete, mais_saudavel))\n",
    "\n",
    "# \"{1}, {0}, {2}\".format(tv_50, tv_32, \"Resultado\")"
   ]
  },
  {
   "cell_type": "markdown",
   "id": "b49a453f",
   "metadata": {},
   "source": [
    "# Operadores Unários"
   ]
  },
  {
   "cell_type": "code",
   "execution_count": null,
   "id": "80fe2036",
   "metadata": {},
   "outputs": [],
   "source": [
    "a = 3\n",
    "# a++\n",
    "a += 1\n",
    "a\n",
    "# a--\n",
    "a -= 1\n",
    "a\n",
    "-a\n",
    "+a\n",
    "\n",
    "not 0\n",
    "not 1\n",
    "not -2\n",
    "not False\n",
    "not not True"
   ]
  },
  {
   "cell_type": "markdown",
   "id": "7850d249",
   "metadata": {},
   "source": [
    "# Operadores Ternários"
   ]
  },
  {
   "cell_type": "code",
   "execution_count": null,
   "id": "c031a9e6",
   "metadata": {},
   "outputs": [],
   "source": [
    "esta_chovendo = False\n",
    "print(\"Hoje estou com as roupas \" + (\"secas.\", \"molhadas.\")[esta_chovendo])\n",
    "print(\"Hoje estou com as roupas \" + (\"molhadas.\" if esta_chovendo else \"secas.\"))"
   ]
  },
  {
   "cell_type": "markdown",
   "id": "d3616dd8",
   "metadata": {},
   "source": [
    "# Operadores de Membros/Identidade"
   ]
  },
  {
   "cell_type": "code",
   "execution_count": null,
   "id": "c64a989c",
   "metadata": {},
   "outputs": [],
   "source": [
    "# operador de membro\n",
    "lista = [1, 2, 3, \"Ana\", \"Carla\"]\n",
    "print(2 in lista)\n",
    "print(\"Ana\" not in lista)\n",
    "\n",
    "# Operador de identidade\n",
    "x = 3\n",
    "y = x\n",
    "z = 3\n",
    "print(x is y)\n",
    "print(y is z)\n",
    "print(x is not z)\n",
    "\n",
    "lista_a = [1, 2, 3]\n",
    "lista_b = lista_a\n",
    "lista_c = [1, 2, 3]\n",
    "print(lista_a is lista_b)\n",
    "print(lista_b is lista_c)\n",
    "print(lista_a is not lista_c)"
   ]
  },
  {
   "cell_type": "markdown",
   "id": "139370df",
   "metadata": {},
   "source": [
    "# Builtins"
   ]
  },
  {
   "cell_type": "code",
   "execution_count": 20,
   "id": "a8144883",
   "metadata": {},
   "outputs": [
    {
     "name": "stdout",
     "output_type": "stream",
     "text": [
      "3.3333333333333335\n"
     ]
    },
    {
     "data": {
      "text/plain": [
       "['In',\n",
       " 'Out',\n",
       " '_',\n",
       " '_1',\n",
       " '_10',\n",
       " '_11',\n",
       " '_12',\n",
       " '_15',\n",
       " '_17',\n",
       " '_18',\n",
       " '_19',\n",
       " '_4',\n",
       " '_5',\n",
       " '_6',\n",
       " '_7',\n",
       " '_9',\n",
       " '__',\n",
       " '___',\n",
       " '__builtin__',\n",
       " '__builtins__',\n",
       " '__doc__',\n",
       " '__loader__',\n",
       " '__name__',\n",
       " '__package__',\n",
       " '__spec__',\n",
       " '__vsc_ipynb_file__',\n",
       " '_dh',\n",
       " '_i',\n",
       " '_i1',\n",
       " '_i10',\n",
       " '_i11',\n",
       " '_i12',\n",
       " '_i13',\n",
       " '_i14',\n",
       " '_i15',\n",
       " '_i16',\n",
       " '_i17',\n",
       " '_i18',\n",
       " '_i19',\n",
       " '_i2',\n",
       " '_i20',\n",
       " '_i3',\n",
       " '_i4',\n",
       " '_i5',\n",
       " '_i6',\n",
       " '_i7',\n",
       " '_i8',\n",
       " '_i9',\n",
       " '_ih',\n",
       " '_ii',\n",
       " '_iii',\n",
       " '_oh',\n",
       " 'a',\n",
       " 'exit',\n",
       " 'get_ipython',\n",
       " 'mais_saudavel',\n",
       " 'math',\n",
       " 'nome',\n",
       " 'os',\n",
       " 'quit',\n",
       " 'sorvete',\n",
       " 'sys',\n",
       " 'trabalho_quinta',\n",
       " 'trabalho_terca',\n",
       " 'tv_32',\n",
       " 'tv_50']"
      ]
     },
     "execution_count": 20,
     "metadata": {},
     "output_type": "execute_result"
    }
   ],
   "source": [
    "type(1)\n",
    "# Importado no escopo global\n",
    "#  Nunca interferir em __builtins__\n",
    "__builtins__.type(\"Fala Galéra\")\n",
    "__builtins__.print(10 / 3)\n",
    "\n",
    "# __builtins__.help(__builtins__.dir)\n",
    "# dir()\n",
    "\n",
    "# a = 7\n",
    "# import math\n",
    "# dir(__builtins__)\n",
    "nome = \"John doe\"\n",
    "type(nome)\n",
    "__builtins__.len(nome)\n",
    "\n",
    "dir()"
   ]
  },
  {
   "cell_type": "markdown",
   "id": "2989215a",
   "metadata": {},
   "source": [
    "# Conversão de Tipos"
   ]
  },
  {
   "cell_type": "code",
   "execution_count": 30,
   "id": "8655ca7c",
   "metadata": {},
   "outputs": [
    {
     "name": "stdout",
     "output_type": "stream",
     "text": [
      "<class 'int'>\n",
      "<class 'str'>\n",
      "5\n",
      "23\n",
      "5.4\n"
     ]
    }
   ],
   "source": [
    "2 + 3\n",
    "# print(2 + \"3\")\n",
    "a = 2\n",
    "b = \"3\"\n",
    "\n",
    "print(type(a)) # <class 'int'>\n",
    "print(type(b)) # <class 'str'>\n",
    "print(a + int(b)) # str to int\n",
    "print(str(a) + b) # int to str\n",
    "\n",
    "# print(2 + int(\"2 legal\")) # operação inválida\n",
    "# print(2 + int(\"3.4\")) # operação inválida\n",
    "\n",
    "print(2 + float(\"3.4\")) # str to float"
   ]
  },
  {
   "cell_type": "markdown",
   "id": "253da7d3",
   "metadata": {},
   "source": [
    "# Coerção Automática"
   ]
  },
  {
   "cell_type": "code",
   "execution_count": 39,
   "id": "7e563ecf",
   "metadata": {},
   "outputs": [
    {
     "data": {
      "text/plain": [
       "2"
      ]
     },
     "execution_count": 39,
     "metadata": {},
     "output_type": "execute_result"
    }
   ],
   "source": [
    "10 / 2 # resultado de uma divisão é sempre floa no Python\n",
    "type(10 / 2)\n",
    "10 / 3\n",
    "10 // 3 # Divisão inteira\n",
    "10 // 3.3 # Divisão float\n",
    "type(10 // 3.3)\n",
    "10 / 2.5\n",
    "2 + True # 3 + True(1)\n",
    "2 + False # 2 + False(0)"
   ]
  },
  {
   "cell_type": "markdown",
   "id": "1697a883",
   "metadata": {},
   "source": [
    "# Tipos Núméricos"
   ]
  },
  {
   "cell_type": "markdown",
   "id": "d7b65f71",
   "metadata": {},
   "source": [
    "## Números #01"
   ]
  },
  {
   "cell_type": "code",
   "execution_count": 17,
   "id": "021b0632",
   "metadata": {},
   "outputs": [
    {
     "name": "stdout",
     "output_type": "stream",
     "text": [
      "2.0\n",
      "7.5\n",
      "12.5\n",
      "<class 'int'> <class 'float'>\n",
      "False True\n",
      "5\n",
      "5\n",
      "2\n",
      "2\n",
      "3.6\n",
      "3.6\n"
     ]
    }
   ],
   "source": [
    "# print(dir(int), dir(float))\n",
    "# int & float\n",
    "a = 5\n",
    "b = 2.5\n",
    "print(a / b)\n",
    "print(a + b)\n",
    "print(a * b)\n",
    "\n",
    "print(type(a), type(b))\n",
    "print(b.is_integer(), 5.0.is_integer())  # Verify if is integer or float\n",
    "# Internal Functions by int\n",
    "print(int.__add__(2, 3))\n",
    "print(2 + 3)\n",
    "print((-2).__abs__())\n",
    "print((-3.6).__abs__())\n",
    "# Functions int\n",
    "print(abs(-2))\n",
    "print(abs(-3.6))"
   ]
  },
  {
   "cell_type": "markdown",
   "id": "7e107dc4",
   "metadata": {},
   "source": [
    "## Números #02"
   ]
  },
  {
   "cell_type": "code",
   "execution_count": 2,
   "id": "392403c0",
   "metadata": {},
   "outputs": [
    {
     "name": "stdout",
     "output_type": "stream",
     "text": [
      "0.5\n",
      "0.1428571429\n",
      "7\n",
      "['__abs__', '__add__', '__bool__', '__ceil__', '__class__', '__complex__', '__copy__', '__deepcopy__', '__delattr__', '__dir__', '__divmod__', '__doc__', '__eq__', '__float__', '__floor__', '__floordiv__', '__format__', '__ge__', '__getattribute__', '__gt__', '__hash__', '__init__', '__init_subclass__', '__int__', '__le__', '__lt__', '__mod__', '__module__', '__mul__', '__ne__', '__neg__', '__new__', '__pos__', '__pow__', '__radd__', '__rdivmod__', '__reduce__', '__reduce_ex__', '__repr__', '__rfloordiv__', '__rmod__', '__rmul__', '__round__', '__rpow__', '__rsub__', '__rtruediv__', '__setattr__', '__sizeof__', '__str__', '__sub__', '__subclasshook__', '__truediv__', '__trunc__', 'adjusted', 'as_integer_ratio', 'as_tuple', 'canonical', 'compare', 'compare_signal', 'compare_total', 'compare_total_mag', 'conjugate', 'copy_abs', 'copy_negate', 'copy_sign', 'exp', 'fma', 'from_float', 'imag', 'is_canonical', 'is_finite', 'is_infinite', 'is_nan', 'is_normal', 'is_qnan', 'is_signed', 'is_snan', 'is_subnormal', 'is_zero', 'ln', 'log10', 'logb', 'logical_and', 'logical_invert', 'logical_or', 'logical_xor', 'max', 'max_mag', 'min', 'min_mag', 'next_minus', 'next_plus', 'next_toward', 'normalize', 'number_class', 'quantize', 'radix', 'real', 'remainder_near', 'rotate', 'same_quantum', 'scaleb', 'shift', 'sqrt', 'to_eng_string', 'to_integral', 'to_integral_exact', 'to_integral_value']\n",
      "3.300000000\n",
      "['BasicContext', 'Clamped', 'Context', 'ConversionSyntax', 'Decimal', 'DecimalException', 'DecimalTuple', 'DefaultContext', 'DivisionByZero', 'DivisionImpossible', 'DivisionUndefined', 'ExtendedContext', 'FloatOperation', 'HAVE_CONTEXTVAR', 'HAVE_THREADS', 'Inexact', 'InvalidContext', 'InvalidOperation', 'MAX_EMAX', 'MAX_PREC', 'MIN_EMIN', 'MIN_ETINY', 'Overflow', 'ROUND_05UP', 'ROUND_CEILING', 'ROUND_DOWN', 'ROUND_FLOOR', 'ROUND_HALF_DOWN', 'ROUND_HALF_EVEN', 'ROUND_HALF_UP', 'ROUND_UP', 'Rounded', 'Subnormal', 'Underflow', '__builtins__', '__cached__', '__doc__', '__file__', '__libmpdec_version__', '__loader__', '__name__', '__package__', '__spec__', '__version__', 'getcontext', 'localcontext', 'setcontext']\n",
      "['Decimal', 'In', 'Out', '_', '__', '___', '__builtin__', '__builtins__', '__doc__', '__loader__', '__name__', '__package__', '__spec__', '__vsc_ipynb_file__', '_dh', '_i', '_i1', '_i2', '_ih', '_ii', '_iii', '_oh', 'decimal', 'exit', 'get_ipython', 'getcontext', 'os', 'quit', 'sys']\n"
     ]
    }
   ],
   "source": [
    "# 1.1 + 2.2 -> 3.3000000000000003 -> binários\n",
    "from decimal import Decimal, getcontext\n",
    "print(Decimal(1) / Decimal(2))\n",
    "getcontext().prec = 10\n",
    "print(Decimal(1) / Decimal(7))\n",
    "print(Decimal.max(Decimal(1), Decimal(7)))\n",
    "print(dir(Decimal))\n",
    "print(Decimal(1.1) + Decimal(2.2))\n",
    "\n",
    "import decimal\n",
    "print(dir(decimal))\n",
    "print(dir())"
   ]
  },
  {
   "cell_type": "markdown",
   "id": "601131d9",
   "metadata": {},
   "source": [
    "# Tipo String"
   ]
  },
  {
   "cell_type": "code",
   "execution_count": 9,
   "id": "10fa4112",
   "metadata": {},
   "outputs": [
    {
     "name": "stdout",
     "output_type": "stream",
     "text": [
      "Saulo Pedro\n",
      "S\n",
      "True\n",
      "Texto Entre Apostrofos pode ter \"aspas\".\n",
      "Texto com multiplas\n",
      "...\tlinhas\n",
      " Texto com multiplas\n",
      "...\tlinhas\n",
      "\n",
      " Também é possível com\n",
      "aspas simples\n",
      "\n"
     ]
    }
   ],
   "source": [
    "# print(dir(str))\n",
    "nome = \"Saulo Pedro\"\n",
    "print(nome)\n",
    "print(nome[0])\n",
    "# nome[0] = \"P\" # TypeError -> String é imutável\n",
    "# 'marca d'agua' -> Erro de Sintaxe \n",
    "print('Dias D\\'Avila' == 'Dias D\\'Avila') # para texto com aspas simples dentro de aspas simples use \\ -> para fazer parte do texto\n",
    "# print(\"Teste \\\" Teste\")\n",
    "texto = 'Texto Entre Apostrofos pode ter \"aspas\".'\n",
    "print(texto)\n",
    "\n",
    "doc = \"\"\" Texto com multiplas\n",
    "...\\tlinhas\n",
    "\"\"\"\n",
    "\n",
    "print(\"Texto com multiplas\\n...\\tlinhas\")\n",
    "print(doc)\n",
    "\n",
    "doc2 = ''' Também é possível com\n",
    "aspas simples\n",
    "'''\n",
    "print(doc2)"
   ]
  },
  {
   "cell_type": "code",
   "execution_count": 26,
   "id": "1e1c5cc8",
   "metadata": {},
   "outputs": [
    {
     "name": "stdout",
     "output_type": "stream",
     "text": [
      "J\n",
      "o\n",
      "i\n",
      " Gabriel\n",
      "riel\n",
      "João\n",
      "João \n",
      "leirbaG oãoJ\n",
      "02468\n",
      "13579\n",
      "9876543210\n"
     ]
    }
   ],
   "source": [
    "nome = \"João Gabriel\"\n",
    "print(nome[0])\n",
    "print(nome[1])\n",
    "print(nome[-3])\n",
    "print(nome[4:])\n",
    "print(nome[-4:])\n",
    "print(nome[:4])\n",
    "print(nome[0:5])\n",
    "print(nome[::-1]) # inverter\n",
    "\n",
    "numeros = '0123456789'\n",
    "print(numeros[::2])\n",
    "print(numeros[1::2])\n",
    "print(numeros[::-1])"
   ]
  },
  {
   "cell_type": "code",
   "execution_count": 11,
   "id": "963e7492",
   "metadata": {},
   "outputs": [
    {
     "name": "stdout",
     "output_type": "stream",
     "text": [
      "True\n",
      "True\n",
      "32\n",
      "python é uma linguagem excelente\n",
      "PYTHON É UMA LINGUAGEM EXCELENTE\n",
      "['Python', 'é', 'uma', 'linguagem', 'excelente']\n",
      "['Python é uma linguag', 'm ', 'xc', 'l', 'nt', '']\n",
      "['__add__', '__class__', '__contains__', '__delattr__', '__dir__', '__doc__', '__eq__', '__format__', '__ge__', '__getattribute__', '__getitem__', '__getnewargs__', '__gt__', '__hash__', '__init__', '__init_subclass__', '__iter__', '__le__', '__len__', '__lt__', '__mod__', '__mul__', '__ne__', '__new__', '__reduce__', '__reduce_ex__', '__repr__', '__rmod__', '__rmul__', '__setattr__', '__sizeof__', '__str__', '__subclasshook__', 'capitalize', 'casefold', 'center', 'count', 'encode', 'endswith', 'expandtabs', 'find', 'format', 'format_map', 'index', 'isalnum', 'isalpha', 'isascii', 'isdecimal', 'isdigit', 'isidentifier', 'islower', 'isnumeric', 'isprintable', 'isspace', 'istitle', 'isupper', 'join', 'ljust', 'lower', 'lstrip', 'maketrans', 'partition', 'removeprefix', 'removesuffix', 'replace', 'rfind', 'rindex', 'rjust', 'rpartition', 'rsplit', 'rstrip', 'split', 'splitlines', 'startswith', 'strip', 'swapcase', 'title', 'translate', 'upper', 'zfill']\n",
      "Help on method_descriptor:\n",
      "\n",
      "center(self, width, fillchar=' ', /)\n",
      "    Return a centered string of length width.\n",
      "    \n",
      "    Padding is done using the specified fill character (default is a space).\n",
      "\n",
      "None\n"
     ]
    }
   ],
   "source": [
    "frase = \"Python é uma linguagem excelente\"\n",
    "print(\"py\" not in frase)\n",
    "print(\"ing\" in frase)\n",
    "print(len(frase))\n",
    "print(frase.lower())\n",
    "print(frase.upper())\n",
    "print(frase.split())\n",
    "print(frase.split(\"e\"))\n",
    "print(dir(str))\n",
    "print(help(str.center))"
   ]
  },
  {
   "cell_type": "code",
   "execution_count": 21,
   "id": "25591d64",
   "metadata": {},
   "outputs": [
    {
     "name": "stdout",
     "output_type": "stream",
     "text": [
      "123 de Oliveira 4\n",
      "['__add__', '__class__', '__contains__', '__delattr__', '__dir__', '__doc__', '__eq__', '__format__', '__ge__', '__getattribute__', '__getitem__', '__getnewargs__', '__gt__', '__hash__', '__init__', '__init_subclass__', '__iter__', '__le__', '__len__', '__lt__', '__mod__', '__mul__', '__ne__', '__new__', '__reduce__', '__reduce_ex__', '__repr__', '__rmod__', '__rmul__', '__setattr__', '__sizeof__', '__str__', '__subclasshook__', 'capitalize', 'casefold', 'center', 'count', 'encode', 'endswith', 'expandtabs', 'find', 'format', 'format_map', 'index', 'isalnum', 'isalpha', 'isascii', 'isdecimal', 'isdigit', 'isidentifier', 'islower', 'isnumeric', 'isprintable', 'isspace', 'istitle', 'isupper', 'join', 'ljust', 'lower', 'lstrip', 'maketrans', 'partition', 'removeprefix', 'removesuffix', 'replace', 'rfind', 'rindex', 'rjust', 'rpartition', 'rsplit', 'rstrip', 'split', 'splitlines', 'startswith', 'strip', 'swapcase', 'title', 'translate', 'upper', 'zfill']\n",
      "3\n",
      "True\n"
     ]
    }
   ],
   "source": [
    "a = \"123\"\n",
    "b = \" de Oliveira 4\"\n",
    "# print(a.__add__(b)) -> (+) magic method\n",
    "# print(str.__add__(a, b))\n",
    "print(a + b)\n",
    "print(dir(str))\n",
    "# print(a.__len__())\n",
    "print(len(a))\n",
    "# print(a.__contains__(\"2\"))\n",
    "print(\"2\" in a)"
   ]
  }
 ],
 "metadata": {
  "interpreter": {
   "hash": "b9a6f1b1b4debffda254a5a32f33ca062fcf244d2676d9923c02cd3a268d8fef"
  },
  "kernelspec": {
   "display_name": "Python 3.9.12 ('base')",
   "language": "python",
   "name": "python3"
  },
  "language_info": {
   "codemirror_mode": {
    "name": "ipython",
    "version": 3
   },
   "file_extension": ".py",
   "mimetype": "text/x-python",
   "name": "python",
   "nbconvert_exporter": "python",
   "pygments_lexer": "ipython3",
   "version": "3.9.12"
  }
 },
 "nbformat": 4,
 "nbformat_minor": 5
}
