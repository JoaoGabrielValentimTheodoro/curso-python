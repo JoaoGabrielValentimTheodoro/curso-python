{
 "cells": [
  {
   "cell_type": "code",
   "execution_count": 9,
   "id": "8e808932-4b2f-42e6-886c-5c05975ffcbc",
   "metadata": {},
   "outputs": [
    {
     "data": {
      "text/plain": [
       "1"
      ]
     },
     "execution_count": 9,
     "metadata": {},
     "output_type": "execute_result"
    }
   ],
   "source": [
    "1 + 2 + 3\n",
    "3 // 2"
   ]
  },
  {
   "cell_type": "code",
   "execution_count": 1,
   "id": "c9af2b6c-c95d-40ea-8976-e63bb7109197",
   "metadata": {},
   "outputs": [
    {
     "name": "stdout",
     "output_type": "stream",
     "text": [
      "256\n",
      "8\n"
     ]
    }
   ],
   "source": [
    "print(2 ** 8)\n",
    "print(3 + 5)"
   ]
  },
  {
   "cell_type": "code",
   "execution_count": 7,
   "id": "d2edea94-6e62-45ca-9e2e-4e6ae66e99f5",
   "metadata": {},
   "outputs": [
    {
     "name": "stdout",
     "output_type": "stream",
     "text": [
      "Teste Jupyter\n"
     ]
    }
   ],
   "source": [
    "print(\"Teste Jupyter\")"
   ]
  },
  {
   "cell_type": "markdown",
   "id": "58c1d068-834e-4cb2-bb8d-acef0ab82d4f",
   "metadata": {},
   "source": [
    "# Operadores"
   ]
  },
  {
   "cell_type": "code",
   "execution_count": 11,
   "id": "9498a7fe-bcd4-46a7-a534-e4359aa66153",
   "metadata": {},
   "outputs": [
    {
     "data": {
      "text/plain": [
       "3"
      ]
     },
     "execution_count": 11,
     "metadata": {},
     "output_type": "execute_result"
    }
   ],
   "source": [
    "1 + 2"
   ]
  },
  {
   "cell_type": "code",
   "execution_count": 12,
   "id": "310eb6d8-908b-4f44-8caa-bc1ccc015a56",
   "metadata": {},
   "outputs": [
    {
     "data": {
      "text/plain": [
       "8"
      ]
     },
     "execution_count": 12,
     "metadata": {},
     "output_type": "execute_result"
    }
   ],
   "source": [
    "2 * 4"
   ]
  },
  {
   "cell_type": "code",
   "execution_count": 14,
   "id": "0041fe2e-c56f-457c-bfde-8034b3e8f90b",
   "metadata": {},
   "outputs": [
    {
     "data": {
      "text/plain": [
       "0.6"
      ]
     },
     "execution_count": 14,
     "metadata": {},
     "output_type": "execute_result"
    }
   ],
   "source": [
    "3 / 5"
   ]
  },
  {
   "cell_type": "markdown",
   "id": "18fdb63f-9a53-485b-85a8-c4c6cede2e75",
   "metadata": {},
   "source": [
    "# Estruturas de controle"
   ]
  },
  {
   "cell_type": "code",
   "execution_count": 3,
   "id": "ae146681-69fd-4aa1-a3f7-c749454c30a2",
   "metadata": {},
   "outputs": [],
   "source": [
    "a = 2"
   ]
  },
  {
   "cell_type": "code",
   "execution_count": 4,
   "id": "731654df-9084-4dc2-8bd5-f77ce797c416",
   "metadata": {},
   "outputs": [],
   "source": [
    "b = 3"
   ]
  },
  {
   "cell_type": "code",
   "execution_count": 5,
   "id": "519547d4-7d77-4aaa-b62e-5829c71b527f",
   "metadata": {},
   "outputs": [
    {
     "data": {
      "text/plain": [
       "5"
      ]
     },
     "execution_count": 5,
     "metadata": {},
     "output_type": "execute_result"
    }
   ],
   "source": [
    "a + b"
   ]
  },
  {
   "cell_type": "code",
   "execution_count": 6,
   "id": "9f50da59-9112-441c-bf8a-60e279c2d9e5",
   "metadata": {},
   "outputs": [
    {
     "data": {
      "text/plain": [
       "125"
      ]
     },
     "execution_count": 6,
     "metadata": {},
     "output_type": "execute_result"
    }
   ],
   "source": [
    "(a + b) ** 3"
   ]
  },
  {
   "cell_type": "code",
   "execution_count": 7,
   "id": "c9ec6395-7304-4279-97dd-0eee846bb97a",
   "metadata": {},
   "outputs": [
    {
     "data": {
      "text/plain": [
       "25.0"
      ]
     },
     "execution_count": 7,
     "metadata": {},
     "output_type": "execute_result"
    }
   ],
   "source": [
    "((a + b) ** 3) / 5"
   ]
  },
  {
   "cell_type": "code",
   "execution_count": 8,
   "id": "917fbb1c-2ef4-49a5-ac0d-e71cc9a90165",
   "metadata": {},
   "outputs": [
    {
     "name": "stdout",
     "output_type": "stream",
     "text": [
      "7 3\n"
     ]
    }
   ],
   "source": [
    "a = 3\n",
    "b = 7 \n",
    "\n",
    "a, b = b, a\n",
    "print(a, b)"
   ]
  }
 ],
 "metadata": {
  "interpreter": {
   "hash": "b9a6f1b1b4debffda254a5a32f33ca062fcf244d2676d9923c02cd3a268d8fef"
  },
  "kernelspec": {
   "display_name": "Python 3.9.12 ('base')",
   "language": "python",
   "name": "python3"
  },
  "language_info": {
   "codemirror_mode": {
    "name": "ipython",
    "version": 3
   },
   "file_extension": ".py",
   "mimetype": "text/x-python",
   "name": "python",
   "nbconvert_exporter": "python",
   "pygments_lexer": "ipython3",
   "version": "3.9.12"
  }
 },
 "nbformat": 4,
 "nbformat_minor": 5
}
